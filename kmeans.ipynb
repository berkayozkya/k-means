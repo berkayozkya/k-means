{
  "cells": [
    {
      "cell_type": "code",
      "execution_count": null,
      "metadata": {
        "id": "TJu38a126vEj"
      },
      "outputs": [],
      "source": [
        "import pandas as pd\n",
        "import matplotlib.pyplot as plt\n",
        "import numpy as np\n",
        "import random\n",
        "from IPython.display import display \n",
        "import math as m\n",
        "from pandas import DataFrame\n",
        "from matplotlib.pyplot import figure\n",
        "import seaborn as sns\n"
      ]
    },
    {
      "cell_type": "code",
      "execution_count": null,
      "metadata": {
        "colab": {
          "base_uri": "https://localhost:8080/"
        },
        "id": "HSqeqfy_68Uj",
        "outputId": "f2fb30a1-80f8-47a4-9963-9b64894b3f5d"
      },
      "outputs": [
        {
          "name": "stdout",
          "output_type": "stream",
          "text": [
            "Drive already mounted at /content/drive; to attempt to forcibly remount, call drive.mount(\"/content/drive\", force_remount=True).\n"
          ]
        }
      ],
      "source": [
        "from google.colab import drive\n",
        "drive.mount('/content/drive')"
      ]
    },
    {
      "cell_type": "code",
      "execution_count": null,
      "metadata": {
        "colab": {
          "base_uri": "https://localhost:8080/",
          "height": 424
        },
        "id": "oNPWcanF69JK",
        "outputId": "c1e167d9-2c45-4052-a381-efd0c08c1438"
      },
      "outputs": [
        {
          "data": {
            "text/html": [
              "\n",
              "  <div id=\"df-366fc9e3-b321-479a-8855-8d82d0f306e4\">\n",
              "    <div class=\"colab-df-container\">\n",
              "      <div>\n",
              "<style scoped>\n",
              "    .dataframe tbody tr th:only-of-type {\n",
              "        vertical-align: middle;\n",
              "    }\n",
              "\n",
              "    .dataframe tbody tr th {\n",
              "        vertical-align: top;\n",
              "    }\n",
              "\n",
              "    .dataframe thead th {\n",
              "        text-align: right;\n",
              "    }\n",
              "</style>\n",
              "<table border=\"1\" class=\"dataframe\">\n",
              "  <thead>\n",
              "    <tr style=\"text-align: right;\">\n",
              "      <th></th>\n",
              "      <th>x</th>\n",
              "      <th>y</th>\n",
              "    </tr>\n",
              "  </thead>\n",
              "  <tbody>\n",
              "    <tr>\n",
              "      <th>0</th>\n",
              "      <td>-0.200303</td>\n",
              "      <td>0.510281</td>\n",
              "    </tr>\n",
              "    <tr>\n",
              "      <th>1</th>\n",
              "      <td>-0.326642</td>\n",
              "      <td>-0.922599</td>\n",
              "    </tr>\n",
              "    <tr>\n",
              "      <th>2</th>\n",
              "      <td>-0.020885</td>\n",
              "      <td>-1.822650</td>\n",
              "    </tr>\n",
              "    <tr>\n",
              "      <th>3</th>\n",
              "      <td>-0.796312</td>\n",
              "      <td>0.618746</td>\n",
              "    </tr>\n",
              "    <tr>\n",
              "      <th>4</th>\n",
              "      <td>-1.290430</td>\n",
              "      <td>-1.055020</td>\n",
              "    </tr>\n",
              "    <tr>\n",
              "      <th>...</th>\n",
              "      <td>...</td>\n",
              "      <td>...</td>\n",
              "    </tr>\n",
              "    <tr>\n",
              "      <th>95</th>\n",
              "      <td>2.510740</td>\n",
              "      <td>-3.331230</td>\n",
              "    </tr>\n",
              "    <tr>\n",
              "      <th>96</th>\n",
              "      <td>2.424170</td>\n",
              "      <td>-2.143370</td>\n",
              "    </tr>\n",
              "    <tr>\n",
              "      <th>97</th>\n",
              "      <td>2.915710</td>\n",
              "      <td>-2.911060</td>\n",
              "    </tr>\n",
              "    <tr>\n",
              "      <th>98</th>\n",
              "      <td>2.414640</td>\n",
              "      <td>-3.687660</td>\n",
              "    </tr>\n",
              "    <tr>\n",
              "      <th>99</th>\n",
              "      <td>3.603910</td>\n",
              "      <td>-2.383220</td>\n",
              "    </tr>\n",
              "  </tbody>\n",
              "</table>\n",
              "<p>100 rows × 2 columns</p>\n",
              "</div>\n",
              "      <button class=\"colab-df-convert\" onclick=\"convertToInteractive('df-366fc9e3-b321-479a-8855-8d82d0f306e4')\"\n",
              "              title=\"Convert this dataframe to an interactive table.\"\n",
              "              style=\"display:none;\">\n",
              "        \n",
              "  <svg xmlns=\"http://www.w3.org/2000/svg\" height=\"24px\"viewBox=\"0 0 24 24\"\n",
              "       width=\"24px\">\n",
              "    <path d=\"M0 0h24v24H0V0z\" fill=\"none\"/>\n",
              "    <path d=\"M18.56 5.44l.94 2.06.94-2.06 2.06-.94-2.06-.94-.94-2.06-.94 2.06-2.06.94zm-11 1L8.5 8.5l.94-2.06 2.06-.94-2.06-.94L8.5 2.5l-.94 2.06-2.06.94zm10 10l.94 2.06.94-2.06 2.06-.94-2.06-.94-.94-2.06-.94 2.06-2.06.94z\"/><path d=\"M17.41 7.96l-1.37-1.37c-.4-.4-.92-.59-1.43-.59-.52 0-1.04.2-1.43.59L10.3 9.45l-7.72 7.72c-.78.78-.78 2.05 0 2.83L4 21.41c.39.39.9.59 1.41.59.51 0 1.02-.2 1.41-.59l7.78-7.78 2.81-2.81c.8-.78.8-2.07 0-2.86zM5.41 20L4 18.59l7.72-7.72 1.47 1.35L5.41 20z\"/>\n",
              "  </svg>\n",
              "      </button>\n",
              "      \n",
              "  <style>\n",
              "    .colab-df-container {\n",
              "      display:flex;\n",
              "      flex-wrap:wrap;\n",
              "      gap: 12px;\n",
              "    }\n",
              "\n",
              "    .colab-df-convert {\n",
              "      background-color: #E8F0FE;\n",
              "      border: none;\n",
              "      border-radius: 50%;\n",
              "      cursor: pointer;\n",
              "      display: none;\n",
              "      fill: #1967D2;\n",
              "      height: 32px;\n",
              "      padding: 0 0 0 0;\n",
              "      width: 32px;\n",
              "    }\n",
              "\n",
              "    .colab-df-convert:hover {\n",
              "      background-color: #E2EBFA;\n",
              "      box-shadow: 0px 1px 2px rgba(60, 64, 67, 0.3), 0px 1px 3px 1px rgba(60, 64, 67, 0.15);\n",
              "      fill: #174EA6;\n",
              "    }\n",
              "\n",
              "    [theme=dark] .colab-df-convert {\n",
              "      background-color: #3B4455;\n",
              "      fill: #D2E3FC;\n",
              "    }\n",
              "\n",
              "    [theme=dark] .colab-df-convert:hover {\n",
              "      background-color: #434B5C;\n",
              "      box-shadow: 0px 1px 3px 1px rgba(0, 0, 0, 0.15);\n",
              "      filter: drop-shadow(0px 1px 2px rgba(0, 0, 0, 0.3));\n",
              "      fill: #FFFFFF;\n",
              "    }\n",
              "  </style>\n",
              "\n",
              "      <script>\n",
              "        const buttonEl =\n",
              "          document.querySelector('#df-366fc9e3-b321-479a-8855-8d82d0f306e4 button.colab-df-convert');\n",
              "        buttonEl.style.display =\n",
              "          google.colab.kernel.accessAllowed ? 'block' : 'none';\n",
              "\n",
              "        async function convertToInteractive(key) {\n",
              "          const element = document.querySelector('#df-366fc9e3-b321-479a-8855-8d82d0f306e4');\n",
              "          const dataTable =\n",
              "            await google.colab.kernel.invokeFunction('convertToInteractive',\n",
              "                                                     [key], {});\n",
              "          if (!dataTable) return;\n",
              "\n",
              "          const docLinkHtml = 'Like what you see? Visit the ' +\n",
              "            '<a target=\"_blank\" href=https://colab.research.google.com/notebooks/data_table.ipynb>data table notebook</a>'\n",
              "            + ' to learn more about interactive tables.';\n",
              "          element.innerHTML = '';\n",
              "          dataTable['output_type'] = 'display_data';\n",
              "          await google.colab.output.renderOutput(dataTable, element);\n",
              "          const docLink = document.createElement('div');\n",
              "          docLink.innerHTML = docLinkHtml;\n",
              "          element.appendChild(docLink);\n",
              "        }\n",
              "      </script>\n",
              "    </div>\n",
              "  </div>\n",
              "  "
            ],
            "text/plain": [
              "           x         y\n",
              "0  -0.200303  0.510281\n",
              "1  -0.326642 -0.922599\n",
              "2  -0.020885 -1.822650\n",
              "3  -0.796312  0.618746\n",
              "4  -1.290430 -1.055020\n",
              "..       ...       ...\n",
              "95  2.510740 -3.331230\n",
              "96  2.424170 -2.143370\n",
              "97  2.915710 -2.911060\n",
              "98  2.414640 -3.687660\n",
              "99  3.603910 -2.383220\n",
              "\n",
              "[100 rows x 2 columns]"
            ]
          },
          "execution_count": 2,
          "metadata": {},
          "output_type": "execute_result"
        }
      ],
      "source": [
        "data = pd.read_csv(\"/content/drive/MyDrive/data/clustering_toy_data.csv\")\n",
        "data"
      ]
    },
    {
      "cell_type": "markdown",
      "metadata": {
        "id": "lO6LyO1EGCSE"
      },
      "source": [
        "##k-means clustering "
      ]
    },
    {
      "cell_type": "code",
      "execution_count": null,
      "metadata": {
        "id": "Wq9XaHvFBrwz"
      },
      "outputs": [],
      "source": [
        "X = data['x']\n",
        "Y = data['y']\n"
      ]
    },
    {
      "cell_type": "code",
      "execution_count": null,
      "metadata": {
        "colab": {
          "base_uri": "https://localhost:8080/",
          "height": 514
        },
        "id": "oGK9IdxbB3-I",
        "outputId": "c75afd79-66f4-41a1-e130-89c6ceaa4dc2"
      },
      "outputs": [
        {
          "data": {
            "text/plain": [
              "Text(0, 0.5, 'y')"
            ]
          },
          "execution_count": 5,
          "metadata": {},
          "output_type": "execute_result"
        },
        {
          "data": {
            "image/png": "[encoded data removed]",
            "text/plain": [
              "<Figure size 576x576 with 1 Axes>"
            ]
          },
          "metadata": {
            "needs_background": "light"
          },
          "output_type": "display_data"
        }
      ],
      "source": [
        "plt.figure(figsize=(8, 8))\n",
        "plt.scatter(X, Y)\n",
        "plt.xlabel(\"X\")\n",
        "plt.ylabel(\"y\")"
      ]
    },
    {
      "cell_type": "code",
      "execution_count": null,
      "metadata": {
        "id": "oreyL20sCPeN"
      },
      "outputs": [],
      "source": [
        "# 3 rastgele nokta seç\n",
        "import random\n",
        "def random_centroids(number_of_centroids, training_set_size):\n",
        "    x_point = []\n",
        "    y_point = []\n",
        "\n",
        "    for i in range(number_of_centroids):\n",
        "        j = random.randint(1, training_set_size-1)\n",
        "\n",
        "        x_point.append(X[j])\n",
        "        y_point.append(Y[j])\n",
        "\n",
        "    \n",
        "    centroids = {\"x\": x_point, \"y\":y_point}\n",
        "    return centroids"
      ]
    },
    {
      "cell_type": "code",
      "execution_count": null,
      "metadata": {
        "colab": {
          "base_uri": "https://localhost:8080/"
        },
        "id": "G3L5QBYfEG6G",
        "outputId": "2aa79869-7041-45b1-e3df-3a10d59a1778"
      },
      "outputs": [
        {
          "name": "stdout",
          "output_type": "stream",
          "text": [
            "{'x': [3.52743, 3.11366, -0.96831], 'y': [-2.07992, 0.725048, -0.583816]}\n"
          ]
        }
      ],
      "source": [
        "number_of_centroids = 3\n",
        "centroids = random_centroids(number_of_centroids, len(X))\n",
        "\n",
        "print(centroids)"
      ]
    },
    {
      "cell_type": "code",
      "execution_count": null,
      "metadata": {
        "colab": {
          "base_uri": "https://localhost:8080/",
          "height": 514
        },
        "id": "Q2_BIpiuEaPw",
        "outputId": "d0628771-9b53-4ca3-f847-772f166b50d9"
      },
      "outputs": [
        {
          "data": {
            "text/plain": [
              "Text(0, 0.5, 'y')"
            ]
          },
          "execution_count": 21,
          "metadata": {},
          "output_type": "execute_result"
        },
        {
          "data": {
            "image/png": "[encoded data removed]",
            "text/plain": [
              "<Figure size 576x576 with 1 Axes>"
            ]
          },
          "metadata": {
            "needs_background": "light"
          },
          "output_type": "display_data"
        }
      ],
      "source": [
        "plt.figure(figsize=(8, 8))\n",
        "plt.scatter(X, Y)\n",
        "plt.scatter(centroids[\"x\"], centroids[\"y\"], color='red')\n",
        "plt.xlabel(\"X\")\n",
        "plt.ylabel(\"y\")"
      ]
    },
    {
      "cell_type": "code",
      "execution_count": null,
      "metadata": {
        "id": "qusixkAYE8-z"
      },
      "outputs": [],
      "source": [
        "# her bir noktanın her bir merkezden uzaklığını bulmak\n",
        "import math\n",
        "def eucledian_distance(x1, y1, x2, y2):\n",
        "     return math.sqrt(((x1-x2)**2) + ((y1-y2)**2))"
      ]
    },
    {
      "cell_type": "code",
      "execution_count": null,
      "metadata": {
        "id": "c-0dZfihFIpQ"
      },
      "outputs": [],
      "source": [
        "def calculate_distance_from_centroids(centroid, point_x, point_y):\n",
        "    \n",
        "    distances = []\n",
        "    centroid_distances = {}\n",
        "    for i in range(len(centroid[\"x\"])):\n",
        "        for j in range(len(X)):\n",
        "\n",
        "            distances.append(eucledian_distance(centroid[\"x\"][i], centroid[\"y\"][i], point_x[j], point_y[j]))\n",
        "                        \n",
        "        centroid_distances[i] = distances\n",
        "        distances = []\n",
        "    return centroid_distances"
      ]
    },
    {
      "cell_type": "code",
      "execution_count": null,
      "metadata": {
        "id": "dS3vshAqFN7R"
      },
      "outputs": [],
      "source": [
        "# Bu işlev, her küme noktasının ortalama mesafesini alır\n",
        "def mean_distance_cluster(df, x, y):\n",
        "    return df.groupby(\"cluster\").mean()[[\"x\", \"y\"]]"
      ]
    },
    {
      "cell_type": "code",
      "execution_count": null,
      "metadata": {
        "id": "3Fwa007XFTgn"
      },
      "outputs": [],
      "source": [
        "# Bu ana k means işlevidir\n",
        "def kmeans(centroids, x, y):\n",
        "    diff = 1\n",
        "    i = 0\n",
        "    while (diff!=0):\n",
        "        centroid_distances = calculate_distance_from_centroids(centroids, x, y)\n",
        "        df = pd.DataFrame()\n",
        "        df.iloc[0:0]\n",
        "        df = pd.DataFrame(calculate_distance_from_centroids(centroids, X, y))\n",
        "        \n",
        "        df['cluster'] = df.idxmin(axis=1)\n",
        "        df[\"x\"] = x\n",
        "        df[\"y\"] = y\n",
        "        \n",
        "        new_centroids = mean_distance_cluster(df, x, y)\n",
        "        \n",
        "        diff = (new_centroids[\"x\"] - centroids[\"x\"]).sum() + (new_centroids[\"y\"] - centroids[\"y\"]).sum()\n",
        "        print(diff)\n",
        "        centroids = new_centroids\n",
        "     \n",
        "        i+=1\n",
        "        \n",
        "    return df"
      ]
    },
    {
      "cell_type": "code",
      "execution_count": null,
      "metadata": {
        "colab": {
          "base_uri": "https://localhost:8080/",
          "height": 621
        },
        "id": "BcFAEYcnFd2g",
        "outputId": "ef6f19d5-17c6-4998-b913-ca19c736a70f"
      },
      "outputs": [
        {
          "name": "stdout",
          "output_type": "stream",
          "text": [
            "0.9174581600000008\n",
            "0.23375459599999976\n",
            "0.0\n"
          ]
        },
        {
          "name": "stderr",
          "output_type": "stream",
          "text": [
            "/usr/local/lib/python3.7/dist-packages/seaborn/_decorators.py:43: FutureWarning: Pass the following variables as keyword args: x, y. From version 0.12, the only valid positional argument will be `data`, and passing other arguments without an explicit keyword will result in an error or misinterpretation.\n",
            "  FutureWarning\n"
          ]
        },
        {
          "data": {
            "text/plain": [
              "<matplotlib.axes._subplots.AxesSubplot at 0x7fadd1034150>"
            ]
          },
          "execution_count": 26,
          "metadata": {},
          "output_type": "execute_result"
        },
        {
          "data": {
            "image/png": "[encoded data removed]",
            "text/plain": [
              "<Figure size 576x576 with 1 Axes>"
            ]
          },
          "metadata": {
            "needs_background": "light"
          },
          "output_type": "display_data"
        }
      ],
      "source": [
        "df_new = kmeans(centroids, X, Y)\n",
        "plt.figure(figsize=(8, 8))\n",
        "sns.scatterplot(df_new['x'], df_new['y'], hue=df_new['cluster'], palette=[\"blue\", \"green\", \"orange\"], s=70)"
      ]
    }
  ],
  "metadata": {
    "colab": {
      "provenance": []
    },
    "kernelspec": {
      "display_name": "Python 3",
      "name": "python3"
    },
    "language_info": {
      "name": "python"
    }
  },
  "nbformat": 4,
  "nbformat_minor": 0
}
